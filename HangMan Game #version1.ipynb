{
 "cells": [
  {
   "cell_type": "code",
   "execution_count": 104,
   "id": "1af1cdef",
   "metadata": {},
   "outputs": [
    {
     "name": "stdout",
     "output_type": "stream",
     "text": [
      "What is your name? Prajwal\n",
      "Good Luck !  Prajwal\n",
      "First letter is  r\n",
      "Last letter is  w\n",
      "Guess the characters\n",
      "_ _ _ _ _ _ _ guess a character:W\n",
      "Wrong\n",
      "You have 11 more guesses\n",
      "_ _ _ _ _ _ _ guess a character:R\n",
      "Wrong\n",
      "You have 10 more guesses\n",
      "_ _ _ _ _ _ _ guess a character:W\n",
      "Wrong\n",
      "You have 9 more guesses\n",
      "_ _ _ _ _ _ _ guess a character:R\n",
      "Wrong\n",
      "You have 8 more guesses\n",
      "_ _ _ _ _ _ _ guess a character:r\n",
      "r _ _ _ _ _ _ guess a character:w\n",
      "r _ _ _ _ _ w guess a character:r\n",
      "r _ _ _ _ _ w guess a character:r\n",
      "r _ _ _ _ _ w guess a character:e\n",
      "Wrong\n",
      "You have 7 more guesses\n",
      "r _ _ _ _ _ w guess a character:a\n",
      "r a _ _ _ _ w guess a character:inbo\n",
      "r a i _ _ _ w guess a character:n\n",
      "r a i n _ _ w guess a character:b\n",
      "r a i n b _ w guess a character:o\n",
      "r a i n b o w You Win\n",
      "The word is:  rainbow\n"
     ]
    }
   ],
   "source": [
    "##hang man version 1\n",
    "import random\n",
    "name = input(\"What is your name? \")\n",
    "print(\"Good Luck ! \", name) \n",
    "words = ['rainbow', 'computer', 'science', 'programming',\n",
    "         'python', 'mathematics', 'player', 'condition',\n",
    "         'reverse', 'water', 'board', 'geeks']\n",
    "word = random.choice(words)\n",
    "print(\"First letter is \",word[0])\n",
    "print(\"Last letter is \",word[len(word)-1])\n",
    "print(\"Guess the characters\")\n",
    "guesses = ''\n",
    "turns = 12 \n",
    "while turns > 0:\n",
    "    failed = 0\n",
    "    for char in word:\n",
    "        if char in guesses:\n",
    "            print(char,end=\" \") \n",
    "        else:\n",
    "            print(\"_\",end=\" \")\n",
    "            failed += 1\n",
    "    if failed == 0:  \n",
    "        print(\"You Win\")\n",
    "        print(\"The word is: \", word)\n",
    "        break\n",
    "    guess = input(\"guess a character:\")\n",
    "    guess = guess[0]\n",
    "    guesses += guess\n",
    "    if guess not in word:\n",
    "        turns -= 1\n",
    "        print(\"Wrong\")\n",
    "        print(\"You have\", + turns, 'more guesses')\n",
    "        if turns == 0:\n",
    "            print(\"You Loose\")"
   ]
  },
  {
   "cell_type": "code",
   "execution_count": null,
   "id": "fc4f8be9",
   "metadata": {},
   "outputs": [],
   "source": []
  }
 ],
 "metadata": {
  "kernelspec": {
   "display_name": "Python 3",
   "language": "python",
   "name": "python3"
  },
  "language_info": {
   "codemirror_mode": {
    "name": "ipython",
    "version": 3
   },
   "file_extension": ".py",
   "mimetype": "text/x-python",
   "name": "python",
   "nbconvert_exporter": "python",
   "pygments_lexer": "ipython3",
   "version": "3.8.8"
  }
 },
 "nbformat": 4,
 "nbformat_minor": 5
}
